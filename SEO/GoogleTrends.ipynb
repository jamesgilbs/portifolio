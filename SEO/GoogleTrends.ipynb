{
  "nbformat": 4,
  "nbformat_minor": 0,
  "metadata": {
    "kernelspec": {
      "display_name": "Python 3",
      "language": "python",
      "name": "python3"
    },
    "language_info": {
      "codemirror_mode": {
        "name": "ipython",
        "version": 3
      },
      "file_extension": ".py",
      "mimetype": "text/x-python",
      "name": "python",
      "nbconvert_exporter": "python",
      "pygments_lexer": "ipython3",
      "version": "3.7.6"
    },
    "colab": {
      "name": "GoogleTrends.ipynb",
      "provenance": [],
      "collapsed_sections": [],
      "include_colab_link": true
    }
  },
  "cells": [
    {
      "cell_type": "markdown",
      "metadata": {
        "id": "view-in-github",
        "colab_type": "text"
      },
      "source": [
        "<a href=\"https://colab.research.google.com/github/JamesGilJGBS/Portifolio/blob/main/SEO/GoogleTrends.ipynb\" target=\"_parent\"><img src=\"https://colab.research.google.com/assets/colab-badge.svg\" alt=\"Open In Colab\"/></a>"
      ]
    },
    {
      "cell_type": "code",
      "metadata": {
        "colab": {
          "base_uri": "https://localhost:8080/"
        },
        "id": "xInRcFtJ3SE9",
        "outputId": "b1a5a547-a8d1-462f-e6a1-fd0bdea3bc04"
      },
      "source": [
        "#!pip install pytrends\n",
        "#!pip install pyodbc"
      ],
      "execution_count": 1,
      "outputs": [
        {
          "output_type": "stream",
          "text": [
            "Collecting pytrends\n",
            "  Downloading https://files.pythonhosted.org/packages/96/53/a4a74c33bfdbe1740183e00769377352072e64182913562daf9f5e4f1938/pytrends-4.7.3-py3-none-any.whl\n",
            "Requirement already satisfied: pandas>=0.25 in /usr/local/lib/python3.7/dist-packages (from pytrends) (1.1.5)\n",
            "Requirement already satisfied: requests in /usr/local/lib/python3.7/dist-packages (from pytrends) (2.23.0)\n",
            "Requirement already satisfied: lxml in /usr/local/lib/python3.7/dist-packages (from pytrends) (4.2.6)\n",
            "Requirement already satisfied: numpy>=1.15.4 in /usr/local/lib/python3.7/dist-packages (from pandas>=0.25->pytrends) (1.19.5)\n",
            "Requirement already satisfied: python-dateutil>=2.7.3 in /usr/local/lib/python3.7/dist-packages (from pandas>=0.25->pytrends) (2.8.1)\n",
            "Requirement already satisfied: pytz>=2017.2 in /usr/local/lib/python3.7/dist-packages (from pandas>=0.25->pytrends) (2018.9)\n",
            "Requirement already satisfied: certifi>=2017.4.17 in /usr/local/lib/python3.7/dist-packages (from requests->pytrends) (2021.5.30)\n",
            "Requirement already satisfied: chardet<4,>=3.0.2 in /usr/local/lib/python3.7/dist-packages (from requests->pytrends) (3.0.4)\n",
            "Requirement already satisfied: idna<3,>=2.5 in /usr/local/lib/python3.7/dist-packages (from requests->pytrends) (2.10)\n",
            "Requirement already satisfied: urllib3!=1.25.0,!=1.25.1,<1.26,>=1.21.1 in /usr/local/lib/python3.7/dist-packages (from requests->pytrends) (1.24.3)\n",
            "Requirement already satisfied: six>=1.5 in /usr/local/lib/python3.7/dist-packages (from python-dateutil>=2.7.3->pandas>=0.25->pytrends) (1.15.0)\n",
            "Installing collected packages: pytrends\n",
            "Successfully installed pytrends-4.7.3\n"
          ],
          "name": "stdout"
        }
      ]
    },
    {
      "cell_type": "code",
      "metadata": {
        "id": "n8DvY4ha3SE-"
      },
      "source": [
        "import pandas as pd\n",
        "import numpy as np\n",
        "import datetime\n",
        "from datetime import timezone, datetime, timedelta, date\n",
        "import seaborn as sns\n",
        "sns.set()\n",
        "\n",
        "import requests\n",
        "import pyodbc\n",
        "import hashlib\n",
        "from pytrends.request import TrendReq\n",
        "pytrends = TrendReq(hl='pt-BR', tz=360)\n",
        "\n",
        "import json"
      ],
      "execution_count": 4,
      "outputs": []
    },
    {
      "cell_type": "code",
      "metadata": {
        "colab": {
          "base_uri": "https://localhost:8080/"
        },
        "id": "xPU4zhRn3SE_",
        "outputId": "bafefdf6-12af-4d1a-cd21-ccc53ab87ea2"
      },
      "source": [
        "# Get Google Hot Trends data\n",
        "print('Tendências do Dia: Hot Trends')\n",
        "today_searches_df = pytrends.today_searches(pn='BR')\n",
        "print(today_searches_df)"
      ],
      "execution_count": 48,
      "outputs": [
        {
          "output_type": "stream",
          "text": [
            "Tendências do Dia: Hot Trends\n",
            "0               Palmeiras x Grêmio\n",
            "1                  Umuarama Futsal\n",
            "2    Agendamento vacina Vila Velha\n",
            "3                        Megan Fox\n",
            "4                  Rodrigo Pacheco\n",
            "5                   Forças Armadas\n",
            "6                      Bruno Viana\n",
            "7              Francieli Fantinato\n",
            "Name: query, dtype: object\n"
          ],
          "name": "stdout"
        }
      ]
    },
    {
      "cell_type": "code",
      "metadata": {
        "id": "odOrXuZq3SFA"
      },
      "source": [
        "termo = 'laço'"
      ],
      "execution_count": 65,
      "outputs": []
    },
    {
      "cell_type": "code",
      "metadata": {
        "id": "yvvvjNMP3SFB"
      },
      "source": [
        "# Create payload and capture API tokens. Only needed for interest_over_time() and related_queries()\n",
        "pytrends.build_payload(kw_list=[(str(termo))])"
      ],
      "execution_count": 62,
      "outputs": []
    },
    {
      "cell_type": "code",
      "metadata": {
        "colab": {
          "base_uri": "https://localhost:8080/",
          "height": 221
        },
        "id": "rNHaGM0A3SFB",
        "outputId": "197be58d-2a61-43bf-b0b5-b6931a6010dc"
      },
      "source": [
        "# Get Google Keyword Suggestions\n",
        "print('Buscando...')\n",
        "suggestions_dict = pytrends.suggestions(keyword=termo)\n",
        "pd.DataFrame(data=suggestions_dict).drop('mid', axis=1)"
      ],
      "execution_count": 51,
      "outputs": [
        {
          "output_type": "stream",
          "text": [
            "Buscando...\n"
          ],
          "name": "stdout"
        },
        {
          "output_type": "execute_result",
          "data": {
            "text/html": [
              "<div>\n",
              "<style scoped>\n",
              "    .dataframe tbody tr th:only-of-type {\n",
              "        vertical-align: middle;\n",
              "    }\n",
              "\n",
              "    .dataframe tbody tr th {\n",
              "        vertical-align: top;\n",
              "    }\n",
              "\n",
              "    .dataframe thead th {\n",
              "        text-align: right;\n",
              "    }\n",
              "</style>\n",
              "<table border=\"1\" class=\"dataframe\">\n",
              "  <thead>\n",
              "    <tr style=\"text-align: right;\">\n",
              "      <th></th>\n",
              "      <th>title</th>\n",
              "      <th>type</th>\n",
              "    </tr>\n",
              "  </thead>\n",
              "  <tbody>\n",
              "    <tr>\n",
              "      <th>0</th>\n",
              "      <td>laço</td>\n",
              "      <td>Assunto</td>\n",
              "    </tr>\n",
              "    <tr>\n",
              "      <th>1</th>\n",
              "      <td>Gravata-borboleta</td>\n",
              "      <td>Acessório de moda</td>\n",
              "    </tr>\n",
              "    <tr>\n",
              "      <th>2</th>\n",
              "      <td>Laço</td>\n",
              "      <td>Insígnia</td>\n",
              "    </tr>\n",
              "    <tr>\n",
              "      <th>3</th>\n",
              "      <td>Laço</td>\n",
              "      <td>Assunto</td>\n",
              "    </tr>\n",
              "    <tr>\n",
              "      <th>4</th>\n",
              "      <td>Gifted</td>\n",
              "      <td>Filme de 2017</td>\n",
              "    </tr>\n",
              "  </tbody>\n",
              "</table>\n",
              "</div>"
            ],
            "text/plain": [
              "               title               type\n",
              "0               laço            Assunto\n",
              "1  Gravata-borboleta  Acessório de moda\n",
              "2               Laço           Insígnia\n",
              "3               Laço            Assunto\n",
              "4             Gifted      Filme de 2017"
            ]
          },
          "metadata": {
            "tags": []
          },
          "execution_count": 51
        }
      ]
    },
    {
      "cell_type": "code",
      "metadata": {
        "colab": {
          "base_uri": "https://localhost:8080/",
          "height": 669
        },
        "id": "rbGK_ave3SFC",
        "outputId": "f6ea12e5-ce39-42a5-8f96-bf3e3436168f"
      },
      "source": [
        "# Related Queries, returns a dictionary of dataframes\n",
        "related_queries_dict = pytrends.related_queries()\n",
        "pd.DataFrame(data=related_queries_dict[termo]['top'].head(20))"
      ],
      "execution_count": 53,
      "outputs": [
        {
          "output_type": "execute_result",
          "data": {
            "text/html": [
              "<div>\n",
              "<style scoped>\n",
              "    .dataframe tbody tr th:only-of-type {\n",
              "        vertical-align: middle;\n",
              "    }\n",
              "\n",
              "    .dataframe tbody tr th {\n",
              "        vertical-align: top;\n",
              "    }\n",
              "\n",
              "    .dataframe thead th {\n",
              "        text-align: right;\n",
              "    }\n",
              "</style>\n",
              "<table border=\"1\" class=\"dataframe\">\n",
              "  <thead>\n",
              "    <tr style=\"text-align: right;\">\n",
              "      <th></th>\n",
              "      <th>query</th>\n",
              "      <th>value</th>\n",
              "    </tr>\n",
              "  </thead>\n",
              "  <tbody>\n",
              "    <tr>\n",
              "      <th>0</th>\n",
              "      <td>fazer laço</td>\n",
              "      <td>100</td>\n",
              "    </tr>\n",
              "    <tr>\n",
              "      <th>1</th>\n",
              "      <td>como fazer laço</td>\n",
              "      <td>94</td>\n",
              "    </tr>\n",
              "    <tr>\n",
              "      <th>2</th>\n",
              "      <td>como fazer</td>\n",
              "      <td>93</td>\n",
              "    </tr>\n",
              "    <tr>\n",
              "      <th>3</th>\n",
              "      <td>laço de fita</td>\n",
              "      <td>87</td>\n",
              "    </tr>\n",
              "    <tr>\n",
              "      <th>4</th>\n",
              "      <td>laço cabelo</td>\n",
              "      <td>33</td>\n",
              "    </tr>\n",
              "    <tr>\n",
              "      <th>5</th>\n",
              "      <td>menina de laço</td>\n",
              "      <td>31</td>\n",
              "    </tr>\n",
              "    <tr>\n",
              "      <th>6</th>\n",
              "      <td>laço de cetim</td>\n",
              "      <td>29</td>\n",
              "    </tr>\n",
              "    <tr>\n",
              "      <th>7</th>\n",
              "      <td>fazer laço de fita</td>\n",
              "      <td>28</td>\n",
              "    </tr>\n",
              "    <tr>\n",
              "      <th>8</th>\n",
              "      <td>laço de cabelo</td>\n",
              "      <td>26</td>\n",
              "    </tr>\n",
              "    <tr>\n",
              "      <th>9</th>\n",
              "      <td>como fazer laço de fita</td>\n",
              "      <td>25</td>\n",
              "    </tr>\n",
              "    <tr>\n",
              "      <th>10</th>\n",
              "      <td>menina bonita de laço de fita</td>\n",
              "      <td>24</td>\n",
              "    </tr>\n",
              "    <tr>\n",
              "      <th>11</th>\n",
              "      <td>menina do laço de fita</td>\n",
              "      <td>24</td>\n",
              "    </tr>\n",
              "    <tr>\n",
              "      <th>12</th>\n",
              "      <td>laço rosa</td>\n",
              "      <td>22</td>\n",
              "    </tr>\n",
              "    <tr>\n",
              "      <th>13</th>\n",
              "      <td>laços</td>\n",
              "      <td>21</td>\n",
              "    </tr>\n",
              "    <tr>\n",
              "      <th>14</th>\n",
              "      <td>fita para laço</td>\n",
              "      <td>20</td>\n",
              "    </tr>\n",
              "    <tr>\n",
              "      <th>15</th>\n",
              "      <td>laço com fita</td>\n",
              "      <td>19</td>\n",
              "    </tr>\n",
              "    <tr>\n",
              "      <th>16</th>\n",
              "      <td>molde laço</td>\n",
              "      <td>17</td>\n",
              "    </tr>\n",
              "    <tr>\n",
              "      <th>17</th>\n",
              "      <td>laço passo a passo</td>\n",
              "      <td>16</td>\n",
              "    </tr>\n",
              "    <tr>\n",
              "      <th>18</th>\n",
              "      <td>laço de fita de cetim</td>\n",
              "      <td>16</td>\n",
              "    </tr>\n",
              "    <tr>\n",
              "      <th>19</th>\n",
              "      <td>laço fita de cetim</td>\n",
              "      <td>16</td>\n",
              "    </tr>\n",
              "  </tbody>\n",
              "</table>\n",
              "</div>"
            ],
            "text/plain": [
              "                            query  value\n",
              "0                      fazer laço    100\n",
              "1                 como fazer laço     94\n",
              "2                      como fazer     93\n",
              "3                    laço de fita     87\n",
              "4                     laço cabelo     33\n",
              "5                  menina de laço     31\n",
              "6                   laço de cetim     29\n",
              "7              fazer laço de fita     28\n",
              "8                  laço de cabelo     26\n",
              "9         como fazer laço de fita     25\n",
              "10  menina bonita de laço de fita     24\n",
              "11         menina do laço de fita     24\n",
              "12                      laço rosa     22\n",
              "13                          laços     21\n",
              "14                 fita para laço     20\n",
              "15                  laço com fita     19\n",
              "16                     molde laço     17\n",
              "17             laço passo a passo     16\n",
              "18          laço de fita de cetim     16\n",
              "19             laço fita de cetim     16"
            ]
          },
          "metadata": {
            "tags": []
          },
          "execution_count": 53
        }
      ]
    },
    {
      "cell_type": "code",
      "metadata": {
        "colab": {
          "base_uri": "https://localhost:8080/",
          "height": 669
        },
        "id": "3XMWHrzD3SFD",
        "outputId": "63b42321-38f7-4c62-f93e-27c41b59d86b"
      },
      "source": [
        "pd.DataFrame(data=related_queries_dict[termo]['rising'].head(20))"
      ],
      "execution_count": 54,
      "outputs": [
        {
          "output_type": "execute_result",
          "data": {
            "text/html": [
              "<div>\n",
              "<style scoped>\n",
              "    .dataframe tbody tr th:only-of-type {\n",
              "        vertical-align: middle;\n",
              "    }\n",
              "\n",
              "    .dataframe tbody tr th {\n",
              "        vertical-align: top;\n",
              "    }\n",
              "\n",
              "    .dataframe thead th {\n",
              "        text-align: right;\n",
              "    }\n",
              "</style>\n",
              "<table border=\"1\" class=\"dataframe\">\n",
              "  <thead>\n",
              "    <tr style=\"text-align: right;\">\n",
              "      <th></th>\n",
              "      <th>query</th>\n",
              "      <th>value</th>\n",
              "    </tr>\n",
              "  </thead>\n",
              "  <tbody>\n",
              "    <tr>\n",
              "      <th>0</th>\n",
              "      <td>laço boutique duplo</td>\n",
              "      <td>26450</td>\n",
              "    </tr>\n",
              "    <tr>\n",
              "      <th>1</th>\n",
              "      <td>canal do laço ao vivo</td>\n",
              "      <td>25200</td>\n",
              "    </tr>\n",
              "    <tr>\n",
              "      <th>2</th>\n",
              "      <td>um laço de amor filme completo dublado</td>\n",
              "      <td>23450</td>\n",
              "    </tr>\n",
              "    <tr>\n",
              "      <th>3</th>\n",
              "      <td>assistir um laço de amor</td>\n",
              "      <td>21800</td>\n",
              "    </tr>\n",
              "    <tr>\n",
              "      <th>4</th>\n",
              "      <td>laço setembro amarelo</td>\n",
              "      <td>17400</td>\n",
              "    </tr>\n",
              "    <tr>\n",
              "      <th>5</th>\n",
              "      <td>setembro amarelo</td>\n",
              "      <td>17000</td>\n",
              "    </tr>\n",
              "    <tr>\n",
              "      <th>6</th>\n",
              "      <td>um laço de amor netflix</td>\n",
              "      <td>13550</td>\n",
              "    </tr>\n",
              "    <tr>\n",
              "      <th>7</th>\n",
              "      <td>canal top do laço</td>\n",
              "      <td>13450</td>\n",
              "    </tr>\n",
              "    <tr>\n",
              "      <th>8</th>\n",
              "      <td>laço formoso</td>\n",
              "      <td>13200</td>\n",
              "    </tr>\n",
              "    <tr>\n",
              "      <th>9</th>\n",
              "      <td>laço boutique com ponta</td>\n",
              "      <td>11100</td>\n",
              "    </tr>\n",
              "    <tr>\n",
              "      <th>10</th>\n",
              "      <td>laço formosura</td>\n",
              "      <td>10450</td>\n",
              "    </tr>\n",
              "    <tr>\n",
              "      <th>11</th>\n",
              "      <td>laço chuva de amor</td>\n",
              "      <td>9150</td>\n",
              "    </tr>\n",
              "    <tr>\n",
              "      <th>12</th>\n",
              "      <td>um laço de amor filme</td>\n",
              "      <td>8300</td>\n",
              "    </tr>\n",
              "    <tr>\n",
              "      <th>13</th>\n",
              "      <td>laço amora invertido</td>\n",
              "      <td>7750</td>\n",
              "    </tr>\n",
              "    <tr>\n",
              "      <th>14</th>\n",
              "      <td>laço da lol</td>\n",
              "      <td>7350</td>\n",
              "    </tr>\n",
              "    <tr>\n",
              "      <th>15</th>\n",
              "      <td>canal top do laço ao vivo</td>\n",
              "      <td>7300</td>\n",
              "    </tr>\n",
              "    <tr>\n",
              "      <th>16</th>\n",
              "      <td>laço boutique com pontas</td>\n",
              "      <td>7050</td>\n",
              "    </tr>\n",
              "    <tr>\n",
              "      <th>17</th>\n",
              "      <td>laço boutique aberto</td>\n",
              "      <td>5150</td>\n",
              "    </tr>\n",
              "    <tr>\n",
              "      <th>18</th>\n",
              "      <td>canal do laço ao vivo agora</td>\n",
              "      <td>4750</td>\n",
              "    </tr>\n",
              "    <tr>\n",
              "      <th>19</th>\n",
              "      <td>laço boutique invertido</td>\n",
              "      <td>4550</td>\n",
              "    </tr>\n",
              "  </tbody>\n",
              "</table>\n",
              "</div>"
            ],
            "text/plain": [
              "                                     query  value\n",
              "0                      laço boutique duplo  26450\n",
              "1                    canal do laço ao vivo  25200\n",
              "2   um laço de amor filme completo dublado  23450\n",
              "3                 assistir um laço de amor  21800\n",
              "4                    laço setembro amarelo  17400\n",
              "5                         setembro amarelo  17000\n",
              "6                  um laço de amor netflix  13550\n",
              "7                        canal top do laço  13450\n",
              "8                             laço formoso  13200\n",
              "9                  laço boutique com ponta  11100\n",
              "10                          laço formosura  10450\n",
              "11                      laço chuva de amor   9150\n",
              "12                   um laço de amor filme   8300\n",
              "13                    laço amora invertido   7750\n",
              "14                             laço da lol   7350\n",
              "15               canal top do laço ao vivo   7300\n",
              "16                laço boutique com pontas   7050\n",
              "17                    laço boutique aberto   5150\n",
              "18             canal do laço ao vivo agora   4750\n",
              "19                 laço boutique invertido   4550"
            ]
          },
          "metadata": {
            "tags": []
          },
          "execution_count": 54
        }
      ]
    },
    {
      "cell_type": "code",
      "metadata": {
        "colab": {
          "base_uri": "https://localhost:8080/",
          "height": 669
        },
        "id": "Mbst53H08FWz",
        "outputId": "9a5b3365-a401-4e66-8fc8-88ab5c5138ee"
      },
      "source": [
        "related_topic = pytrends.related_topics()\n",
        "related_topic[termo]['top'].drop(['link','topic_mid'], axis=1).head(20)"
      ],
      "execution_count": 58,
      "outputs": [
        {
          "output_type": "execute_result",
          "data": {
            "text/html": [
              "<div>\n",
              "<style scoped>\n",
              "    .dataframe tbody tr th:only-of-type {\n",
              "        vertical-align: middle;\n",
              "    }\n",
              "\n",
              "    .dataframe tbody tr th {\n",
              "        vertical-align: top;\n",
              "    }\n",
              "\n",
              "    .dataframe thead th {\n",
              "        text-align: right;\n",
              "    }\n",
              "</style>\n",
              "<table border=\"1\" class=\"dataframe\">\n",
              "  <thead>\n",
              "    <tr style=\"text-align: right;\">\n",
              "      <th></th>\n",
              "      <th>value</th>\n",
              "      <th>formattedValue</th>\n",
              "      <th>hasData</th>\n",
              "      <th>topic_title</th>\n",
              "      <th>topic_type</th>\n",
              "    </tr>\n",
              "  </thead>\n",
              "  <tbody>\n",
              "    <tr>\n",
              "      <th>0</th>\n",
              "      <td>100</td>\n",
              "      <td>100</td>\n",
              "      <td>True</td>\n",
              "      <td>Laço</td>\n",
              "      <td>Assunto</td>\n",
              "    </tr>\n",
              "    <tr>\n",
              "      <th>1</th>\n",
              "      <td>87</td>\n",
              "      <td>87</td>\n",
              "      <td>True</td>\n",
              "      <td>laço</td>\n",
              "      <td>Assunto</td>\n",
              "    </tr>\n",
              "    <tr>\n",
              "      <th>2</th>\n",
              "      <td>9</td>\n",
              "      <td>9</td>\n",
              "      <td>True</td>\n",
              "      <td>Cabelo</td>\n",
              "      <td>Assunto</td>\n",
              "    </tr>\n",
              "    <tr>\n",
              "      <th>3</th>\n",
              "      <td>9</td>\n",
              "      <td>9</td>\n",
              "      <td>True</td>\n",
              "      <td>Cetim</td>\n",
              "      <td>Assunto</td>\n",
              "    </tr>\n",
              "    <tr>\n",
              "      <th>4</th>\n",
              "      <td>7</td>\n",
              "      <td>7</td>\n",
              "      <td>True</td>\n",
              "      <td>Menina Bonita do Laço de Fita</td>\n",
              "      <td>Livro por Ana Maria Machado</td>\n",
              "    </tr>\n",
              "    <tr>\n",
              "      <th>5</th>\n",
              "      <td>4</td>\n",
              "      <td>4</td>\n",
              "      <td>True</td>\n",
              "      <td>Boutique</td>\n",
              "      <td>Função do edifício</td>\n",
              "    </tr>\n",
              "    <tr>\n",
              "      <th>6</th>\n",
              "      <td>4</td>\n",
              "      <td>4</td>\n",
              "      <td>True</td>\n",
              "      <td>Cor-de-rosa</td>\n",
              "      <td>Cor</td>\n",
              "    </tr>\n",
              "    <tr>\n",
              "      <th>7</th>\n",
              "      <td>3</td>\n",
              "      <td>3</td>\n",
              "      <td>True</td>\n",
              "      <td>Gifted</td>\n",
              "      <td>Filme de 2017</td>\n",
              "    </tr>\n",
              "    <tr>\n",
              "      <th>8</th>\n",
              "      <td>3</td>\n",
              "      <td>3</td>\n",
              "      <td>True</td>\n",
              "      <td>PNG</td>\n",
              "      <td>Formato de arquivo</td>\n",
              "    </tr>\n",
              "    <tr>\n",
              "      <th>9</th>\n",
              "      <td>3</td>\n",
              "      <td>3</td>\n",
              "      <td>True</td>\n",
              "      <td>Tiara</td>\n",
              "      <td>Assunto</td>\n",
              "    </tr>\n",
              "    <tr>\n",
              "      <th>10</th>\n",
              "      <td>3</td>\n",
              "      <td>3</td>\n",
              "      <td>True</td>\n",
              "      <td>Vermelho</td>\n",
              "      <td>Cor</td>\n",
              "    </tr>\n",
              "    <tr>\n",
              "      <th>11</th>\n",
              "      <td>3</td>\n",
              "      <td>3</td>\n",
              "      <td>True</td>\n",
              "      <td>Pérola</td>\n",
              "      <td>Gema</td>\n",
              "    </tr>\n",
              "    <tr>\n",
              "      <th>12</th>\n",
              "      <td>2</td>\n",
              "      <td>2</td>\n",
              "      <td>True</td>\n",
              "      <td>Minnie Mouse</td>\n",
              "      <td>Personagem ficcional</td>\n",
              "    </tr>\n",
              "    <tr>\n",
              "      <th>13</th>\n",
              "      <td>2</td>\n",
              "      <td>2</td>\n",
              "      <td>True</td>\n",
              "      <td>Tecido têxtil</td>\n",
              "      <td>Assunto</td>\n",
              "    </tr>\n",
              "    <tr>\n",
              "      <th>14</th>\n",
              "      <td>2</td>\n",
              "      <td>2</td>\n",
              "      <td>True</td>\n",
              "      <td>Modelo</td>\n",
              "      <td>Profissão</td>\n",
              "    </tr>\n",
              "    <tr>\n",
              "      <th>15</th>\n",
              "      <td>2</td>\n",
              "      <td>2</td>\n",
              "      <td>True</td>\n",
              "      <td>Tiara</td>\n",
              "      <td>Assunto</td>\n",
              "    </tr>\n",
              "    <tr>\n",
              "      <th>16</th>\n",
              "      <td>2</td>\n",
              "      <td>2</td>\n",
              "      <td>True</td>\n",
              "      <td>blusa</td>\n",
              "      <td>Artigo de vestuário</td>\n",
              "    </tr>\n",
              "    <tr>\n",
              "      <th>17</th>\n",
              "      <td>2</td>\n",
              "      <td>2</td>\n",
              "      <td>True</td>\n",
              "      <td>Chinelo</td>\n",
              "      <td>Artigo de vestuário</td>\n",
              "    </tr>\n",
              "    <tr>\n",
              "      <th>18</th>\n",
              "      <td>2</td>\n",
              "      <td>2</td>\n",
              "      <td>True</td>\n",
              "      <td>Música infantojuvenil</td>\n",
              "      <td>Assunto</td>\n",
              "    </tr>\n",
              "    <tr>\n",
              "      <th>19</th>\n",
              "      <td>1</td>\n",
              "      <td>1</td>\n",
              "      <td>True</td>\n",
              "      <td>Canal do Laço +</td>\n",
              "      <td>Serviço de produção de vídeos em Bonito, Mato ...</td>\n",
              "    </tr>\n",
              "  </tbody>\n",
              "</table>\n",
              "</div>"
            ],
            "text/plain": [
              "    value  ...                                         topic_type\n",
              "0     100  ...                                            Assunto\n",
              "1      87  ...                                            Assunto\n",
              "2       9  ...                                            Assunto\n",
              "3       9  ...                                            Assunto\n",
              "4       7  ...                        Livro por Ana Maria Machado\n",
              "5       4  ...                                 Função do edifício\n",
              "6       4  ...                                                Cor\n",
              "7       3  ...                                      Filme de 2017\n",
              "8       3  ...                                 Formato de arquivo\n",
              "9       3  ...                                            Assunto\n",
              "10      3  ...                                                Cor\n",
              "11      3  ...                                               Gema\n",
              "12      2  ...                               Personagem ficcional\n",
              "13      2  ...                                            Assunto\n",
              "14      2  ...                                          Profissão\n",
              "15      2  ...                                            Assunto\n",
              "16      2  ...                                Artigo de vestuário\n",
              "17      2  ...                                Artigo de vestuário\n",
              "18      2  ...                                            Assunto\n",
              "19      1  ...  Serviço de produção de vídeos em Bonito, Mato ...\n",
              "\n",
              "[20 rows x 5 columns]"
            ]
          },
          "metadata": {
            "tags": []
          },
          "execution_count": 58
        }
      ]
    },
    {
      "cell_type": "code",
      "metadata": {
        "colab": {
          "base_uri": "https://localhost:8080/",
          "height": 669
        },
        "id": "k_SPt1AR3SFE",
        "outputId": "3baaf9e1-a37d-44d4-95f2-0b3011308e6c"
      },
      "source": [
        "related_topic = pytrends.related_topics()\n",
        "related_topic[termo]['rising'].drop(['link','topic_mid'], axis=1).head(20)"
      ],
      "execution_count": 55,
      "outputs": [
        {
          "output_type": "execute_result",
          "data": {
            "text/html": [
              "<div>\n",
              "<style scoped>\n",
              "    .dataframe tbody tr th:only-of-type {\n",
              "        vertical-align: middle;\n",
              "    }\n",
              "\n",
              "    .dataframe tbody tr th {\n",
              "        vertical-align: top;\n",
              "    }\n",
              "\n",
              "    .dataframe thead th {\n",
              "        text-align: right;\n",
              "    }\n",
              "</style>\n",
              "<table border=\"1\" class=\"dataframe\">\n",
              "  <thead>\n",
              "    <tr style=\"text-align: right;\">\n",
              "      <th></th>\n",
              "      <th>value</th>\n",
              "      <th>formattedValue</th>\n",
              "      <th>topic_title</th>\n",
              "      <th>topic_type</th>\n",
              "    </tr>\n",
              "  </thead>\n",
              "  <tbody>\n",
              "    <tr>\n",
              "      <th>0</th>\n",
              "      <td>187400</td>\n",
              "      <td>Aumento repentino</td>\n",
              "      <td>Gifted</td>\n",
              "      <td>Filme de 2017</td>\n",
              "    </tr>\n",
              "    <tr>\n",
              "      <th>1</th>\n",
              "      <td>36750</td>\n",
              "      <td>Aumento repentino</td>\n",
              "      <td>Churrascaria</td>\n",
              "      <td>Assunto</td>\n",
              "    </tr>\n",
              "    <tr>\n",
              "      <th>2</th>\n",
              "      <td>36250</td>\n",
              "      <td>Aumento repentino</td>\n",
              "      <td>Mega hair</td>\n",
              "      <td>Assunto</td>\n",
              "    </tr>\n",
              "    <tr>\n",
              "      <th>3</th>\n",
              "      <td>22400</td>\n",
              "      <td>Aumento repentino</td>\n",
              "      <td>Biscuit</td>\n",
              "      <td>Assunto</td>\n",
              "    </tr>\n",
              "    <tr>\n",
              "      <th>4</th>\n",
              "      <td>6100</td>\n",
              "      <td>Aumento repentino</td>\n",
              "      <td>Canal do Laço +</td>\n",
              "      <td>Serviço de produção de vídeos em Bonito, Mato ...</td>\n",
              "    </tr>\n",
              "    <tr>\n",
              "      <th>5</th>\n",
              "      <td>4700</td>\n",
              "      <td>Mais 4.700%</td>\n",
              "      <td>Tiara</td>\n",
              "      <td>Assunto</td>\n",
              "    </tr>\n",
              "    <tr>\n",
              "      <th>6</th>\n",
              "      <td>3850</td>\n",
              "      <td>Mais 3.850%</td>\n",
              "      <td>Amora</td>\n",
              "      <td>Fruta</td>\n",
              "    </tr>\n",
              "    <tr>\n",
              "      <th>7</th>\n",
              "      <td>1800</td>\n",
              "      <td>Mais 1.800%</td>\n",
              "      <td>Boutique</td>\n",
              "      <td>Função do edifício</td>\n",
              "    </tr>\n",
              "    <tr>\n",
              "      <th>8</th>\n",
              "      <td>850</td>\n",
              "      <td>Mais 850%</td>\n",
              "      <td>Mercado livre</td>\n",
              "      <td>Assunto</td>\n",
              "    </tr>\n",
              "    <tr>\n",
              "      <th>9</th>\n",
              "      <td>850</td>\n",
              "      <td>Mais 850%</td>\n",
              "      <td>Música infantojuvenil</td>\n",
              "      <td>Assunto</td>\n",
              "    </tr>\n",
              "    <tr>\n",
              "      <th>10</th>\n",
              "      <td>700</td>\n",
              "      <td>Mais 700%</td>\n",
              "      <td>Nó</td>\n",
              "      <td>Assunto</td>\n",
              "    </tr>\n",
              "    <tr>\n",
              "      <th>11</th>\n",
              "      <td>600</td>\n",
              "      <td>Mais 600%</td>\n",
              "      <td>TNT</td>\n",
              "      <td>Tecido</td>\n",
              "    </tr>\n",
              "    <tr>\n",
              "      <th>12</th>\n",
              "      <td>500</td>\n",
              "      <td>Mais 500%</td>\n",
              "      <td>Pompom</td>\n",
              "      <td>Assunto</td>\n",
              "    </tr>\n",
              "    <tr>\n",
              "      <th>13</th>\n",
              "      <td>500</td>\n",
              "      <td>Mais 500%</td>\n",
              "      <td>Bico</td>\n",
              "      <td>Assunto</td>\n",
              "    </tr>\n",
              "    <tr>\n",
              "      <th>14</th>\n",
              "      <td>450</td>\n",
              "      <td>Mais 450%</td>\n",
              "      <td>Prova</td>\n",
              "      <td>Assunto</td>\n",
              "    </tr>\n",
              "    <tr>\n",
              "      <th>15</th>\n",
              "      <td>450</td>\n",
              "      <td>Mais 450%</td>\n",
              "      <td>Amarração</td>\n",
              "      <td>Assunto</td>\n",
              "    </tr>\n",
              "    <tr>\n",
              "      <th>16</th>\n",
              "      <td>450</td>\n",
              "      <td>Mais 450%</td>\n",
              "      <td>Pato</td>\n",
              "      <td>Ave</td>\n",
              "    </tr>\n",
              "    <tr>\n",
              "      <th>17</th>\n",
              "      <td>400</td>\n",
              "      <td>Mais 400%</td>\n",
              "      <td>Laço</td>\n",
              "      <td>Assunto</td>\n",
              "    </tr>\n",
              "    <tr>\n",
              "      <th>18</th>\n",
              "      <td>350</td>\n",
              "      <td>Mais 350%</td>\n",
              "      <td>Príncipe</td>\n",
              "      <td>Título do nobre</td>\n",
              "    </tr>\n",
              "    <tr>\n",
              "      <th>19</th>\n",
              "      <td>190</td>\n",
              "      <td>Mais 190%</td>\n",
              "      <td>PNG</td>\n",
              "      <td>Formato de arquivo</td>\n",
              "    </tr>\n",
              "  </tbody>\n",
              "</table>\n",
              "</div>"
            ],
            "text/plain": [
              "     value  ...                                         topic_type\n",
              "0   187400  ...                                      Filme de 2017\n",
              "1    36750  ...                                            Assunto\n",
              "2    36250  ...                                            Assunto\n",
              "3    22400  ...                                            Assunto\n",
              "4     6100  ...  Serviço de produção de vídeos em Bonito, Mato ...\n",
              "5     4700  ...                                            Assunto\n",
              "6     3850  ...                                              Fruta\n",
              "7     1800  ...                                 Função do edifício\n",
              "8      850  ...                                            Assunto\n",
              "9      850  ...                                            Assunto\n",
              "10     700  ...                                            Assunto\n",
              "11     600  ...                                             Tecido\n",
              "12     500  ...                                            Assunto\n",
              "13     500  ...                                            Assunto\n",
              "14     450  ...                                            Assunto\n",
              "15     450  ...                                            Assunto\n",
              "16     450  ...                                                Ave\n",
              "17     400  ...                                            Assunto\n",
              "18     350  ...                                    Título do nobre\n",
              "19     190  ...                                 Formato de arquivo\n",
              "\n",
              "[20 rows x 4 columns]"
            ]
          },
          "metadata": {
            "tags": []
          },
          "execution_count": 55
        }
      ]
    },
    {
      "cell_type": "code",
      "metadata": {
        "colab": {
          "base_uri": "https://localhost:8080/",
          "height": 410
        },
        "id": "Odfg3dZR3SFF",
        "outputId": "c7b8d72f-3fc7-44e6-ffbd-2d906b1384a3"
      },
      "source": [
        "# Create payload and capture API tokens. Only needed for interest_over_time(), interest_by_region() &amp; related_queries()\n",
        "pytrends.build_payload(kw_list=[termo])\n",
        " \n",
        "# Interest Over Time\n",
        "interest_over_time_df = pytrends.interest_over_time()\n",
        "interest_over_time_df[interest_over_time_df.index>=datetime(2016,1,1)]\\\n",
        ".pivot_table(values=[termo], index='date')\\\n",
        ".plot(kind='line', stacked=True, figsize=(20,6))"
      ],
      "execution_count": 66,
      "outputs": [
        {
          "output_type": "execute_result",
          "data": {
            "text/plain": [
              "<matplotlib.axes._subplots.AxesSubplot at 0x7f454867af90>"
            ]
          },
          "metadata": {
            "tags": []
          },
          "execution_count": 66
        },
        {
          "output_type": "display_data",
          "data": {
            "image/png": "[encoded data removed]",
            "text/plain": [
              "<Figure size 1440x432 with 1 Axes>"
            ]
          },
          "metadata": {
            "tags": []
          }
        }
      ]
    },
    {
      "cell_type": "code",
      "metadata": {
        "colab": {
          "base_uri": "https://localhost:8080/",
          "height": 410
        },
        "id": "5118AytX3SFH",
        "outputId": "8cdf66ed-7124-428d-bf58-4a5f75765f70"
      },
      "source": [
        "# Create payload and capture API tokens. Only needed for interest_over_time(), interest_by_region() &amp; related_queries()\n",
        "pytrends.build_payload(kw_list=['tiara'])\n",
        " \n",
        "# Interest Over Time\n",
        "interest_over_time_df = pytrends.interest_over_time()\n",
        "interest_over_time_df[interest_over_time_df.index>=datetime(2016,1,1)]\\\n",
        ".pivot_table(values=['tiara'], index='date')\\\n",
        ".plot(kind='line', stacked=True, figsize=(20,6))"
      ],
      "execution_count": 68,
      "outputs": [
        {
          "output_type": "execute_result",
          "data": {
            "text/plain": [
              "<matplotlib.axes._subplots.AxesSubplot at 0x7f4547f4bb10>"
            ]
          },
          "metadata": {
            "tags": []
          },
          "execution_count": 68
        },
        {
          "output_type": "display_data",
          "data": {
            "image/png": "[encoded data removed]",
            "text/plain": [
              "<Figure size 1440x432 with 1 Axes>"
            ]
          },
          "metadata": {
            "tags": []
          }
        }
      ]
    },
    {
      "cell_type": "code",
      "metadata": {
        "colab": {
          "base_uri": "https://localhost:8080/",
          "height": 410
        },
        "id": "1B4ozBwi87Ua",
        "outputId": "49a86796-e7f0-43ec-cd64-a3efb329502d"
      },
      "source": [
        "# Create payload and capture API tokens. Only needed for interest_over_time(), interest_by_region() &amp; related_queries()\n",
        "pytrends.build_payload(kw_list=['turbante'])\n",
        " \n",
        "# Interest Over Time\n",
        "interest_over_time_df = pytrends.interest_over_time()\n",
        "interest_over_time_df[interest_over_time_df.index>=datetime(2016,1,1)]\\\n",
        ".pivot_table(values=['turbante'], index='date')\\\n",
        ".plot(kind='line', stacked=True, figsize=(20,6))"
      ],
      "execution_count": 71,
      "outputs": [
        {
          "output_type": "execute_result",
          "data": {
            "text/plain": [
              "<matplotlib.axes._subplots.AxesSubplot at 0x7f4547e21790>"
            ]
          },
          "metadata": {
            "tags": []
          },
          "execution_count": 71
        },
        {
          "output_type": "display_data",
          "data": {
            "image/png": "[encoded data removed]",
            "text/plain": [
              "<Figure size 1440x432 with 1 Axes>"
            ]
          },
          "metadata": {
            "tags": []
          }
        }
      ]
    },
    {
      "cell_type": "code",
      "metadata": {
        "id": "gZpu89b-9OKU"
      },
      "source": [
        ""
      ],
      "execution_count": null,
      "outputs": []
    }
  ]
}